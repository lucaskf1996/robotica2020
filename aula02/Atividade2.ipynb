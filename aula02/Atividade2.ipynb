{
 "cells": [
  {
   "cell_type": "markdown",
   "metadata": {},
   "source": [
    "# Atividade 2 - Visão Computacional"
   ]
  },
  {
   "cell_type": "markdown",
   "metadata": {},
   "source": [
    "O entregável de toda esta atividade vai ser um código-fonte em *Python*. \n",
    "\n",
    "Encorajamos vocês a fazerem vídeos demonstrando o resultado e a postar (pode ser privadamente) no YouTube\n",
    "\n"
   ]
  },
  {
   "cell_type": "markdown",
   "metadata": {},
   "source": [
    "Você deve ter uma folha com o padrão anexo. \n",
    "*Dica:* Se não tiver, é possível fazer também com um tablet ou *smartphone*\n",
    " \n",
    "<img src=\"folha_atividade.png\" width=300>"
   ]
  },
  {
   "cell_type": "markdown",
   "metadata": {},
   "source": [
    "## Parte 1 - calibração\n",
    "\n",
    "Ouça a explicação do professor sobre o modelo de câmera *pinhole*  e desenhe a medida $f$ que separa o plano focal da pupila da câmera"
   ]
  },
  {
   "cell_type": "markdown",
   "metadata": {},
   "source": [
    "Detalhe como calculou $f$"
   ]
  },
  {
   "cell_type": "markdown",
   "metadata": {},
   "source": [
    "Sabendo o tamanho da linha entre os circulos e o tamanho em pixels da imagem, calcula-se o f utilizando uma distância de controle."
   ]
  },
  {
   "cell_type": "markdown",
   "metadata": {},
   "source": [
    "## Parte 2\n",
    "\n",
    "Modifique um dos exemplos `draw_circles_video.py` ou `videoplay.py` para passar a ler dados da webcam e identificar o círculo magenta e o círculo ciano, usando o `inRange`"
   ]
  },
  {
   "cell_type": "markdown",
   "metadata": {},
   "source": [
    "## Parte 3"
   ]
  },
  {
   "cell_type": "markdown",
   "metadata": {},
   "source": [
    "Assumindo que a folha se mantém sempre paralela ao plano de imagem da câmera, imprima a distância entre a folha e sua câmera"
   ]
  },
  {
   "cell_type": "code",
   "execution_count": null,
   "metadata": {},
   "outputs": [],
   "source": []
  },
  {
   "cell_type": "markdown",
   "metadata": {},
   "source": [
    "## Parte 4\n",
    "\n",
    "Trace uma linha entre os centros do círculo magenta e do círculo ciano.\n",
    "\n",
    "Imprima na tela o ângulo entre esta linha e a horizontal"
   ]
  },
  {
   "cell_type": "code",
   "execution_count": 3,
   "metadata": {},
   "outputs": [
    {
     "output_type": "stream",
     "name": "stdout",
     "text": "New frame\nNot enough matches are found - 0/7\ncade circulo\nNo circles were found\nNew frame\nNot enough matches are found - 0/7\ncade circulo\nNo circles were found\nNew frame\nNot enough matches are found - 0/7\ncade circulo\nNo circles were found\nNew frame\nNot enough matches are found - 0/7\ncade circulo\nNo circles were found\nNew frame\nNot enough matches are found - 0/7\ncade circulo\nNo circles were found\nNew frame\nNot enough matches are found - 0/7\ncade circulo\nNo circles were found\nNew frame\nNot enough matches are found - 0/7\ncade circulo\nNo circles were found\nNew frame\nNot enough matches are found - 1/7\ncade circulo\nNo circles were found\nNew frame\nNot enough matches are found - 0/7\ncade circulo\nNo circles were found\nNew frame\nNot enough matches are found - 0/7\ncade circulo\nNo circles were found\nNew frame\nNot enough matches are found - 1/7\ncade circulo\nNo circles were found\nNew frame\nNot enough matches are found - 0/7\ncade circulo\nNo circles were found\nNew frame\nNot enough matches are found - 0/7\ncade circulo\nNo circles were found\nNew frame\nNot enough matches are found - 0/7\ncade circulo\nNo circles were found\nNew frame\nNot enough matches are found - 0/7\ncade circulo\nNo circles were found\nNew frame\nNot enough matches are found - 1/7\ncade circulo\nNo circles were found\nNew frame\nNot enough matches are found - 1/7\ncade circulo\nNo circles were found\nNew frame\nNot enough matches are found - 0/7\ncade circulo\nNo circles were found\nNew frame\nNot enough matches are found - 0/7\ncade circulo\nNo circles were found\nNew frame\nNot enough matches are found - 0/7\ncade circulo\nNo circles were found\nNew frame\nNot enough matches are found - 0/7\ncade circulo\nNo circles were found\nNew frame\nNot enough matches are found - 0/7\ncade circulo\nNo circles were found\nNew frame\nNot enough matches are found - 0/7\ncade circulo\nNo circles were found\nNew frame\nNot enough matches are found - 0/7\ncade circulo\nNo circles were found\nNew frame\nNot enough matches are found - 0/7\ncade circulo\nNo circles were found\nNew frame\nNot enough matches are found - 1/7\ncade circulo\nNo circles were found\nNew frame\nNot enough matches are found - 0/7\ncade circulo\nNo circles were found\nNew frame\nNot enough matches are found - 1/7\ncade circulo\nNo circles were found\nNew frame\nNot enough matches are found - 0/7\ncade circulo\nNo circles were found\nNew frame\nNot enough matches are found - 0/7\ncade circulo\nNo circles were found\nNew frame\nNot enough matches are found - 1/7\ncade circulo\nNo circles were found\nNew frame\nNot enough matches are found - 0/7\ncade circulo\nNo circles were found\nNew frame\nNot enough matches are found - 0/7\ncade circulo\nNo circles were found\nNew frame\nNot enough matches are found - 0/7\ncade circulo\nNo circles were found\nNew frame\nNot enough matches are found - 0/7\ncade circulo\nNo circles were found\nNew frame\nNot enough matches are found - 2/7\ncade circulo\nNo circles were found\nNew frame\nNot enough matches are found - 0/7\ncade circulo\nNo circles were found\nNew frame\nNot enough matches are found - 1/7\ncade circulo\nNo circles were found\nNew frame\nNot enough matches are found - 0/7\ncade circulo\nNo circles were found\nNew frame\nNot enough matches are found - 0/7\nNo circles were found\nNew frame\nNot enough matches are found - 0/7\nNo circles were found\nNew frame\nNot enough matches are found - 1/7\ncade circulo\nNo circles were found\nNew frame\nNot enough matches are found - 1/7\ncade circulo\nNo circles were found\nNew frame\nNot enough matches are found - 0/7\ncade circulo\nNo circles were found\nNew frame\nNot enough matches are found - 0/7\nNo circles were found\nNew frame\nNot enough matches are found - 0/7\ncade circulo\nNo circles were found\nNew frame\nNot enough matches are found - 1/7\ncade circulo\nNo circles were found\nNew frame\nNot enough matches are found - 1/7\ncade circulo\nNo circles were found\nNew frame\nNot enough matches are found - 0/7\ncade circulo\nNo circles were found\nNew frame\nNot enough matches are found - 0/7\ncade circulo\nNo circles were found\nNew frame\nNot enough matches are found - 1/7\ncade circulo\nNo circles were found\nNew frame\nNot enough matches are found - 1/7\ncade circulo\nNo circles were found\nNew frame\nNot enough matches are found - 0/7\ncade circulo\nNo circles were found\nNew frame\nNot enough matches are found - 1/7\ncade circulo\nNo circles were found\nNew frame\nNot enough matches are found - 2/7\ncade circulo\nNo circles were found\nNew frame\nNot enough matches are found - 1/7\ncade circulo\nNo circles were found\nNew frame\nNot enough matches are found - 0/7\ncade circulo\nNo circles were found\nNew frame\nNot enough matches are found - 1/7\ncade circulo\nNo circles were found\nNew frame\nNot enough matches are found - 1/7\ncade circulo\nNo circles were found\nNew frame\nNot enough matches are found - 2/7\ncade circulo\nNo circles were found\nNew frame\nNot enough matches are found - 1/7\ncade circulo\nNo circles were found\nNew frame\nNot enough matches are found - 1/7\ncade circulo\nNo circles were found\nNew frame\nNot enough matches are found - 0/7\ncade circulo\nNo circles were found\nNew frame\nNot enough matches are found - 0/7\ncade circulo\nNo circles were found\nNew frame\nNot enough matches are found - 1/7\ncade circulo\nNo circles were found\nNew frame\nNot enough matches are found - 1/7\ncade circulo\nNo circles were found\n"
    }
   ],
   "source": [
    "#!/usr/bin/python\n",
    "# -*- coding: utf-8 -*-\n",
    "\n",
    "import cv2\n",
    "import numpy as np\n",
    "from matplotlib import pyplot as plt\n",
    "import time\n",
    "from math import pi\n",
    "import matplotlib.cm as cm\n",
    "\n",
    "\n",
    "def find_homography_draw_box(kp1, kp2, img_cena):\n",
    "    \n",
    "    out = img_cena.copy()\n",
    "    \n",
    "    src_pts = np.float32([ kp1[m.queryIdx].pt for m in good ]).reshape(-1,1,2)\n",
    "    dst_pts = np.float32([ kp2[m.trainIdx].pt for m in good ]).reshape(-1,1,2)\n",
    "\n",
    "\n",
    "    # Tenta achar uma trasformacao composta de rotacao, translacao e escala que situe uma imagem na outra\n",
    "    # Esta transformação é chamada de homografia \n",
    "    M, mask = cv2.findHomography(src_pts, dst_pts, cv2.RANSAC,5.0)\n",
    "    matchesMask = mask.ravel().tolist()\n",
    "\n",
    "\n",
    "    \n",
    "    h,w = img_original.shape\n",
    "    # Um retângulo com as dimensões da imagem original\n",
    "    pts = np.float32([ [0,0],[0,h-1],[w-1,h-1],[w-1,0] ]).reshape(-1,1,2)\n",
    "\n",
    "    # Transforma os pontos do retângulo para onde estao na imagem destino usando a homografia encontrada\n",
    "    dst = cv2.perspectiveTransform(pts,M)\n",
    "\n",
    "\n",
    "    # Desenha um contorno em vermelho ao redor de onde o objeto foi encontrado\n",
    "    img2b = cv2.polylines(out,[np.int32(dst)],True,(255,255,0),5, cv2.LINE_AA)\n",
    "    \n",
    "    return img2b\n",
    "    \n",
    "# Parameters to use when opening the webcam.\n",
    "cap = cv2.VideoCapture(0)\n",
    "cap.set(cv2.CAP_PROP_FRAME_WIDTH, 1280)\n",
    "cap.set(cv2.CAP_PROP_FRAME_HEIGHT, 720)\n",
    "\n",
    "lower = 0\n",
    "upper = 1\n",
    "\n",
    "magentaMin = np.array([139,  50,  50], dtype=np.uint8)\n",
    "magentaMax = np.array([189, 255, 255], dtype=np.uint8)\n",
    "cianoMin = np.array([85,  50,  50], dtype=np.uint8)\n",
    "cianoMax = np.array([135, 255, 255], dtype=np.uint8)\n",
    "\n",
    "#Imagem do logo INSPER\n",
    "logo_bgr = cv2.imread('insper_logo.png')\n",
    "logo_gray = cv2.cvtColor(logo_bgr, cv2.COLOR_BGR2GRAY)\n",
    "original_bgr = logo_bgr\n",
    "original_rgb = cv2.cvtColor(original_bgr, cv2.COLOR_BGR2RGB)\n",
    "img_original = cv2.cvtColor(original_bgr, cv2.COLOR_BGR2GRAY)\n",
    "\n",
    "#Procura features\n",
    "brisk = cv2.BRISK_create() # Nota: numa versão anterior era a BRISK\n",
    "kpts = brisk.detect(logo_gray)\n",
    "x = [k.pt[0] for k in kpts]\n",
    "y = [k.pt[1] for k in kpts]\n",
    "# s will correspond to the neighborhood area\n",
    "s = [(k.size/2)**2 * pi for k in kpts]\n",
    "\n",
    "\n",
    "#fonte para letra\n",
    "font = cv2.FONT_HERSHEY_SIMPLEX\n",
    "\n",
    "# Returns an image containing the borders of the image\n",
    "# sigma is how far from the median we are setting the thresholds\n",
    "def auto_canny(image, sigma=0.33):\n",
    "    # compute the median of the single channel pixel intensities\n",
    "    v = np.median(image)\n",
    "\n",
    "    # apply automatic Canny edge detection using the computed median\n",
    "    lower = int(max(0, (1.0 - sigma) * v))\n",
    "    upper = int(min(255, (1.0 + sigma) * v))\n",
    "    edged = cv2.Canny(image, lower, upper)\n",
    "\n",
    "    # return the edged image\n",
    "    return edged\n",
    "\n",
    "# Número mínimo de pontos correspondentes\n",
    "MIN_MATCH_COUNT = 7\n",
    "\n",
    "while(True):\n",
    "    # Capture frame-by-frame\n",
    "    print(\"New frame\")\n",
    "    ret, frame = cap.read()\n",
    "\n",
    "    # Convert the frame to grayscale\n",
    "    gray = cv2.cvtColor(frame, cv2.COLOR_BGR2GRAY)\n",
    "    # A gaussian blur to get rid of the noise in the image\n",
    "    blur = cv2.GaussianBlur(gray,(5,5),0)\n",
    "    #blur = gray\n",
    "    # Detect the edges present in the image\n",
    "    bordas = auto_canny(blur)\n",
    "\n",
    "    #Faz um map em HSV\n",
    "    hsvFrame = cv2.cvtColor(frame, cv2.COLOR_BGR2HSV)\n",
    "\n",
    "    circles = []\n",
    "\n",
    "    # reseta o valor da distancia do papel\n",
    "    papel = None\n",
    "\n",
    "    # reseta o angulo e vetor para novo frame\n",
    "    angulo = None\n",
    "    vetor = ()\n",
    "\n",
    "    # reset das coordenadas dos centros\n",
    "    magenta = ()\n",
    "    ciano = ()\n",
    "\n",
    "    # Obtains a version of the edges image where we can draw in color\n",
    "    \n",
    "    bordas_color = cv2.cvtColor(bordas, cv2.COLOR_GRAY2BGR)\n",
    "\n",
    "    # HoughCircles - detects circles using the Hough Method. For an explanation of\n",
    "    # param1 and param2 please see an explanation here http://www.pyimagesearch.com/2014/07/21/detecting-circles-images-using-opencv-hough-circles/\n",
    "    circles = None\n",
    "    circles=cv2.HoughCircles(bordas,cv2.HOUGH_GRADIENT,2,40,param1=50,param2=100,minRadius=5,maxRadius=60)\n",
    "    \n",
    "\n",
    "\n",
    "    # Identificação do logo\n",
    "    cena_bgr = frame # Imagem do cenario\n",
    "\n",
    "    # Versões RGB das imagens, para plot\n",
    "    cena_rgb = cv2.cvtColor(cena_bgr, cv2.COLOR_BGR2RGB)\n",
    "    \n",
    "    # Versões grayscale para feature matching\n",
    "    img_cena = cv2.cvtColor(cena_bgr, cv2.COLOR_BGR2GRAY)\n",
    "\n",
    "    framed = None\n",
    "\n",
    "    # Imagem de saída\n",
    "    out = cena_rgb.copy()\n",
    "\n",
    "    # Cria o detector BRISK\n",
    "    brisk = cv2.BRISK_create()\n",
    "\n",
    "    # Encontra os pontos únicos (keypoints) nas duas imagems\n",
    "    kp1, des1 = brisk.detectAndCompute(img_original ,None)\n",
    "    kp2, des2 = brisk.detectAndCompute(img_cena,None)\n",
    "\n",
    "    # Configura o algoritmo de casamento de features que vê *como* o objeto que deve ser encontrado aparece na imagem\n",
    "    bf = cv2.BFMatcher(cv2.NORM_HAMMING)\n",
    "\n",
    "    # Tenta fazer a melhor comparacao usando o algoritmo\n",
    "    matches = bf.knnMatch(des1,des2,k=2)\n",
    "\n",
    "    # store all the good matches as per Lowe's ratio test.\n",
    "    good = []\n",
    "    for m,n in matches:\n",
    "        if m.distance < 0.7*n.distance:\n",
    "            good.append(m)\n",
    "\n",
    "\n",
    "    if len(good)>MIN_MATCH_COUNT:\n",
    "        # Separa os bons matches na origem e no destino\n",
    "        print(\"Matches found\")    \n",
    "        bordas_color = find_homography_draw_box(kp1, kp2, bordas_color)\n",
    "    else:\n",
    "        print(\"Not enough matches are found - %d/%d\" % (len(good),MIN_MATCH_COUNT))\n",
    "\n",
    "\n",
    "    # Versões RGB das imagens, para plot\n",
    "    original_rgb = cv2.cvtColor(original_bgr, cv2.COLOR_BGR2RGB)\n",
    "    cena_rgb = cv2.cvtColor(cena_bgr, cv2.COLOR_BGR2RGB)\n",
    "\n",
    "    if circles is not None:\n",
    "        circles = np.uint16(np.around(circles))\n",
    "\n",
    "        for i in circles[0,:]:\n",
    "            #print(i)\n",
    "            \n",
    "            mask = cv2.inRange(hsvFrame, magentaMin, magentaMax)\n",
    "            if mask[i[1]][i[0]] > 200:\n",
    "                cv2.circle(bordas_color,(i[0],i[1]),i[2],(int(frame[i[1],i[0]][0]), int(frame[i[1],i[0]][1]), int(frame[i[1],i[0]][2])),-1)\n",
    "                # Salva as coordenadas do circulo magenta\n",
    "                magenta = (i[0],i[1])           \n",
    "            mask = cv2.inRange(hsvFrame, cianoMin, cianoMax)\n",
    "            if mask[i[1]][i[0]] > 200:\n",
    "                cv2.circle(bordas_color,(i[0],i[1]),i[2],(int(frame[i[1],i[0]][0]), int(frame[i[1],i[0]][1]), int(frame[i[1],i[0]][2])),-1)\n",
    "                # Salva as coordenadas do círculo ciano\n",
    "                ciano = (i[0],i[1])\n",
    "\n",
    "            cv2.circle(bordas_color,(i[0],i[1]),2,(0,0,255),3)\n",
    "    \n",
    "    #Desenha a reta entre os centros dos círculos\n",
    "    try:\n",
    "        cv2.line(bordas_color,magenta,ciano,(0,255,0),5)\n",
    "        if magenta [0] > ciano[0] and magenta[1] > ciano[1]:\n",
    "            dist = ((magenta[0]-ciano[0])**2+(magenta[1]-ciano[1])**2)**(1/2) # magenta > ciano em x e y\n",
    "            papel = str(777 * 14 / dist) + \"cm\"\n",
    "            angulo = str(np.arctan(abs(magenta[1]-ciano[1])/abs(ciano[0]-magenta[0]))*180/np.pi) + \"graus\"\n",
    "            \n",
    "        elif magenta[0] > ciano[0] and ciano[1] > magenta[1]:\n",
    "            dist = ((magenta[0]-ciano[0])**2+(ciano[1]-magenta[1])**2)**(1/2)\n",
    "            papel = str(777 * 14 / dist) + \"cm\"\n",
    "            angulo = str(np.arctan(abs(ciano[1]-magenta[1])/abs(magenta[0]-ciano[0]))*180/np.pi) + \"graus\"\n",
    "\n",
    "        elif ciano[0] > magenta[0] and ciano[1] > magenta[1]:\n",
    "            dist = ((ciano[0]-magenta[0])**2+(ciano[1]-magenta[1])**2)**(1/2) # magenta > ciano em x e y\n",
    "            papel = str(777 * 14 / dist) + \"cm\"\n",
    "            angulo = str(180-np.arctan(abs(ciano[1]-magenta[1])/abs(ciano[0]-magenta[0]))*180/np.pi) + \"graus\"\n",
    "\n",
    "        elif ciano[0] > magenta[0] and magenta[1] > ciano[1]:\n",
    "            dist = ((ciano[0]-magenta[0])**2+(magenta[1]-ciano[1])**2)**(1/2)\n",
    "            papel = str(777 * 14 / dist) + \"cm\"\n",
    "            angulo = str(180-np.arctan(abs(magenta[1]-ciano[1])/abs(magenta[0]-ciano[0]))*180/np.pi) + \"graus\"\n",
    "            \n",
    "        elif ciano[1] == magenta[1]:\n",
    "            angulo = \"pi/2\"\n",
    "\n",
    "        else:\n",
    "            angulo = \"0\"   \n",
    "\n",
    "        cv2.putText(bordas_color,papel,(0,130), font, 2,(255,255,255),2,cv2.LINE_AA)\n",
    "        cv2.putText(bordas_color,angulo,(0,50), font, 2,(255,255,255),2,cv2.LINE_AA)\n",
    "    except:\n",
    "        print(\"cade circulo\")\n",
    "\n",
    "    # Display the resulting frame\n",
    "    cv2.imshow('Detector de circulos',bordas_color)\n",
    "    print(\"No circles were found\")\n",
    "    if cv2.waitKey(1) & 0xFF == ord('q'):\n",
    "        break\n",
    "# When everything done, release the capture\n",
    "cap.release()\n",
    "cv2.destroyAllWindows()\n",
    ""
   ]
  },
  {
   "cell_type": "code",
   "execution_count": 14,
   "metadata": {},
   "outputs": [
    {
     "name": "stdout",
     "output_type": "stream",
     "text": "()\n"
    }
   ],
   "source": [
    "print(vetor)"
   ]
  },
  {
   "cell_type": "markdown",
   "metadata": {},
   "source": [
    "## Parte 5\n",
    "\n",
    "Usando transformada de Hough, desenhe um círculo sobre o círculo ciano e outro sobre o círculo magenta.\n",
    "\n",
    "**Desafio bônus**: ser capaz de eliminar circulos espúrios (aqueles que não são os da folha)"
   ]
  },
  {
   "cell_type": "code",
   "execution_count": null,
   "metadata": {},
   "outputs": [],
   "source": []
  },
  {
   "cell_type": "markdown",
   "metadata": {},
   "source": [
    "## Parte 6\n",
    "\n",
    "Usando `SIFT`, identifique o escrito *Insper* na folha"
   ]
  },
  {
   "cell_type": "code",
   "execution_count": null,
   "metadata": {},
   "outputs": [],
   "source": []
  }
 ],
 "metadata": {
  "kernelspec": {
   "display_name": "Python 3",
   "language": "python",
   "name": "python3"
  },
  "language_info": {
   "codemirror_mode": {
    "name": "ipython",
    "version": 3
   },
   "file_extension": ".py",
   "mimetype": "text/x-python",
   "name": "python",
   "nbconvert_exporter": "python",
   "pygments_lexer": "ipython3",
   "version": "3.8.1-final"
  }
 },
 "nbformat": 4,
 "nbformat_minor": 2
}